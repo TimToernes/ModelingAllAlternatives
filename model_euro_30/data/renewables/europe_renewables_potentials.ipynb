{
 "cells": [
  {
   "cell_type": "code",
   "execution_count": 1,
   "metadata": {
    "collapsed": true,
    "deletable": true,
    "editable": true
   },
   "outputs": [],
   "source": [
    "import numpy as np\n",
    "import pandas as pd\n",
    "import os"
   ]
  },
  {
   "cell_type": "code",
   "execution_count": 2,
   "metadata": {
    "collapsed": true,
    "deletable": true,
    "editable": true
   },
   "outputs": [],
   "source": [
    "from vresutils import reatlas as vreatlas, shapes as vshapes, landuse as vlanduse\n",
    "from vresutils import cachable"
   ]
  },
  {
   "cell_type": "code",
   "execution_count": 3,
   "metadata": {
    "collapsed": false,
    "deletable": true,
    "editable": true,
    "scrolled": true
   },
   "outputs": [
    {
     "data": {
      "text/plain": [
       "[-12.187983492607373,\n",
       " 41.562442224152896,\n",
       " 33.564599752172413,\n",
       " 71.656483142771847]"
      ]
     },
     "execution_count": 3,
     "metadata": {},
     "output_type": "execute_result"
    }
   ],
   "source": [
    "cutout = vreatlas.Cutout(username='becker', cutoutname='Europe_2011_2014')\n",
    "cutout.extent"
   ]
  },
  {
   "cell_type": "code",
   "execution_count": 4,
   "metadata": {
    "collapsed": true,
    "deletable": true,
    "editable": true
   },
   "outputs": [],
   "source": [
    "ocean_depth_cutoff = 50 # in m or None\n",
    "\n",
    "windturbines = dict(onshore='Vestas_V112_3MW', offshore='NREL_ReferenceTurbine_5MW_offshore')\n",
    "solarpanel = dict(panel='KANENA', orientation='latitude_optimal')"
   ]
  },
  {
   "cell_type": "code",
   "execution_count": 5,
   "metadata": {
    "collapsed": false,
    "deletable": true,
    "editable": true
   },
   "outputs": [
    {
     "name": "stdout",
     "output_type": "stream",
     "text": [
      "Serving call to nuts1 from file vresutils.shapes.nuts1__.pickle of cache: 4.0 msec\n"
     ]
    },
    {
     "name": "stderr",
     "output_type": "stream",
     "text": [
      "No handlers could be found for logger \"vresutils\"\n"
     ]
    }
   ],
   "source": [
    "partition = vreatlas.partition_from_emil(cutout).drop(['AL','ME','MK'])\n",
    "\n",
    "onshoremap = cutout.meta['onshoremap']\n",
    "offshoremap = (1-onshoremap)*(cutout.meta['heights'] > -ocean_depth_cutoff)\n",
    "\n",
    "EUmask = np.asarray(list(partition)).any(axis=0)\n",
    "\n",
    "EUonshoremap = onshoremap*EUmask\n",
    "EUoffshoremap = offshoremap*EUmask"
   ]
  },
  {
   "cell_type": "markdown",
   "metadata": {
    "deletable": true,
    "editable": true
   },
   "source": [
    "The selection of CORINE Land Cover [1] types that are allowed for wind and solar are based on [2] p.42 / p.28\n",
    "\n",
    "[1] https://www.eea.europa.eu/ds_resolveuid/C9RK15EA06\n",
    "\n",
    "[2] Scholz, Y. (2012). Renewable energy based electricity supply at low costs: development of the REMix model and application for Europe."
   ]
  },
  {
   "cell_type": "code",
   "execution_count": 6,
   "metadata": {
    "collapsed": true,
    "deletable": true,
    "editable": true
   },
   "outputs": [],
   "source": [
    "lc_scholz_onshore = [12, 13, 14, 15, 16, 17, 18, 19, 20, 21, 22, 23, 24, 25, 26, 27, 28, 29, 31, 32]\n",
    "lc_scholz_solar = [1, 2, 3, 4, 5, 6, 7, 8, 9, 10, 11, 12, 13, 14, 15, 16, 17, 18, 19, 20, 26, 31, 32]\n",
    "\n",
    "lc_onshore = lc_scholz_onshore\n",
    "lc_offshore = [44, 255]\n",
    "lc_solar = lc_scholz_solar"
   ]
  },
  {
   "cell_type": "markdown",
   "metadata": {
    "deletable": true,
    "editable": true
   },
   "source": [
    "### $A_{RC}$: Raster cell area"
   ]
  },
  {
   "cell_type": "code",
   "execution_count": 7,
   "metadata": {
    "collapsed": true,
    "deletable": true,
    "editable": true
   },
   "outputs": [],
   "source": [
    "reatlas_cell_areas=vlanduse._cutout_cell_areas(cutout)"
   ]
  },
  {
   "cell_type": "markdown",
   "metadata": {
    "deletable": true,
    "editable": true
   },
   "source": [
    "### $f_{LU}$: factor usable land area (via land use type and natura reserves)"
   ]
  },
  {
   "cell_type": "code",
   "execution_count": 8,
   "metadata": {
    "collapsed": false,
    "deletable": true,
    "editable": true
   },
   "outputs": [
    {
     "name": "stdout",
     "output_type": "stream",
     "text": [
      "Caching call to get_landuse in __main__.get_landuse_Cutout_beckerEurope_2011_2014_b3ef94bb2fe0bec59980f6c0493164cb2b483ada_natura.True.pickle: \n",
      ".. Writing binary tiff with allowed landuse types: 27.1 sec\n",
      ".. Marking natura shapes as unavailable in tiff: 988.7 sec\n",
      ".. Aggregating the fine allowed grid per grid cell: 16.4 sec\n",
      ".. Reading the aggregated coarse tiff: 1.9 msec\n",
      ".. 1032.2 sec\n",
      "Caching call to get_landuse in __main__.get_landuse_Cutout_beckerEurope_2011_2014_44_255_natura.True.pickle: \n",
      ".. Writing binary tiff with allowed landuse types: 21.9 sec\n",
      ".. Marking natura shapes as unavailable in tiff: 948.2 sec\n",
      ".. Aggregating the fine allowed grid per grid cell: 15.9 sec\n",
      ".. Reading the aggregated coarse tiff: 2.2 msec\n",
      ".. 986.1 sec\n",
      "Caching call to get_landuse in __main__.get_landuse_Cutout_beckerEurope_2011_2014_88aa699b012a90875ccc25268f759d90c52aa814_natura.True.pickle: \n",
      ".. Writing binary tiff with allowed landuse types: 28.0 sec\n",
      ".. Marking natura shapes as unavailable in tiff: 977.6 sec\n",
      ".. Aggregating the fine allowed grid per grid cell: 16.6 sec\n",
      ".. Reading the aggregated coarse tiff: 2.0 msec\n",
      ".. 1022.4 sec\n"
     ]
    }
   ],
   "source": [
    "@cachable\n",
    "def get_landuse(cutout, lc, natura=True):\n",
    "    return vlanduse.corine_for_cutout(cutout, lc, natura=natura)\n",
    "\n",
    "onshore_landuse = get_landuse(cutout, lc_onshore, natura=True)\n",
    "offshore_landuse = get_landuse(cutout, lc_offshore, natura=True)\n",
    "solar_landuse = get_landuse(cutout, lc_solar, natura=True)"
   ]
  },
  {
   "cell_type": "markdown",
   "metadata": {
    "deletable": true,
    "editable": true
   },
   "source": [
    "### $G_s^{max inst}$ in units of MW/km$^2$"
   ]
  },
  {
   "cell_type": "code",
   "execution_count": 9,
   "metadata": {
    "collapsed": true,
    "deletable": true,
    "editable": true
   },
   "outputs": [],
   "source": [
    "# ScholzPhD [2]\n",
    "# Tab. 4.3.1: Area-specific installable capacity for on/offshore wind = 10MW/km^2\n",
    "G_maxinst_onwind = 10.\n",
    "G_maxinst_offwind = 10.\n",
    "G_maxinst_solar = 170."
   ]
  },
  {
   "cell_type": "markdown",
   "metadata": {
    "deletable": true,
    "editable": true
   },
   "source": [
    "### $f_{aa}$ : share of actually available area"
   ]
  },
  {
   "cell_type": "code",
   "execution_count": 10,
   "metadata": {
    "collapsed": true,
    "deletable": true,
    "editable": true
   },
   "outputs": [],
   "source": [
    "f_aa_onwind = 0.2\n",
    "f_aa_offwind = 0.2\n",
    "f_aa_solar = 0.01"
   ]
  },
  {
   "cell_type": "markdown",
   "metadata": {
    "deletable": true,
    "editable": true
   },
   "source": [
    "### $uf$: utilization factor per raster cell per technology"
   ]
  },
  {
   "cell_type": "code",
   "execution_count": 11,
   "metadata": {
    "collapsed": true,
    "deletable": true,
    "editable": true
   },
   "outputs": [],
   "source": [
    "# from generation.resource\n",
    "import pytz\n",
    "def capacity_factor_layout(resource, cutout, times_real_area=False):\n",
    "    cf = cutout.reatlas.convert_and_aggregate(resource, save_sum=True) / len(cutout.meta['dates'])\n",
    "    if set(('onshore', 'offshore')).issubset(resource):\n",
    "        cf /= np.where(cutout.meta['onshoremap'],\n",
    "                       vreatlas.windturbine_rated_capacity_per_unit(resource['onshore']),\n",
    "                       vreatlas.windturbine_rated_capacity_per_unit(resource['offshore']))\n",
    "    elif set(('panel', 'orientation')).issubset(resource):\n",
    "        cf /= vreatlas.solarpanel_rated_capacity_per_m2(resource['panel'])\n",
    "    else:\n",
    "        raise NotImplemented\n",
    "\n",
    "    if times_real_area:\n",
    "        cf *= np.asarray(list(map(vshapes.area, cutout.grid_cells()))).reshape(cutout.shape)\n",
    "\n",
    "    return cf\n",
    "\n",
    "def unit_capacity_timeseries(resource, partition, capacitylayout, cutout, index=None, return_weight=False):\n",
    "    if isinstance(partition, pd.Series):\n",
    "        layouts = capacitylayout * np.asarray(list(partition))\n",
    "        index = partition.index\n",
    "    else:\n",
    "        layouts = capacitylayout * partition\n",
    "\n",
    "    reatlas = cutout.reatlas\n",
    "    timesindex = pd.DatetimeIndex(cutout.meta['dates'], tz=pytz.utc)\n",
    "\n",
    "    if set(('panel', 'orientation')).issubset(resource):\n",
    "        rated_capacity_per_unit = vreatlas.solarpanel_rated_capacity_per_m2(resource['panel'])\n",
    "    else:\n",
    "        assert not set(('onshore', 'offshore')).issubset(resource), \\\n",
    "            \"Only onshore or offshore is supported separately\"\n",
    "        turbine = resource.get('onshore') or resource.get('offshore')\n",
    "        rated_capacity_per_unit = vreatlas.windturbine_rated_capacity_per_unit(turbine)\n",
    "        resource = dict(onshore=turbine, offshore=turbine)\n",
    "    weight = layouts.sum(axis=(1,2))\n",
    "    timeseries = (reatlas.convert_and_aggregate(resource, layouts)\n",
    "                  * np.nan_to_num(1./weight) / rated_capacity_per_unit)\n",
    "\n",
    "\n",
    "    df = pd.DataFrame(timeseries, index=timesindex, columns=index)\n",
    "    if return_weight:\n",
    "        return df, weight\n",
    "    else:\n",
    "        return df\n"
   ]
  },
  {
   "cell_type": "code",
   "execution_count": 12,
   "metadata": {
    "collapsed": false,
    "deletable": true,
    "editable": true
   },
   "outputs": [
    {
     "name": "stdout",
     "output_type": "stream",
     "text": [
      "CPU times: user 436 ms, sys: 4 ms, total: 440 ms\n",
      "Wall time: 32.3 s\n"
     ]
    }
   ],
   "source": [
    "%%time\n",
    "windcapacityfactor = capacity_factor_layout(windturbines, cutout)"
   ]
  },
  {
   "cell_type": "code",
   "execution_count": 13,
   "metadata": {
    "collapsed": false,
    "deletable": true,
    "editable": true
   },
   "outputs": [
    {
     "name": "stdout",
     "output_type": "stream",
     "text": [
      "CPU times: user 432 ms, sys: 0 ns, total: 432 ms\n",
      "Wall time: 38.9 s\n"
     ]
    }
   ],
   "source": [
    "%%time\n",
    "solarcapacityfactor = capacity_factor_layout(solarpanel, cutout)"
   ]
  },
  {
   "cell_type": "code",
   "execution_count": 14,
   "metadata": {
    "collapsed": true,
    "deletable": true,
    "editable": true
   },
   "outputs": [],
   "source": [
    "f_util_onwind = windcapacityfactor*EUonshoremap\n",
    "f_util_offwind = windcapacityfactor*EUoffshoremap\n",
    "f_util_solar = solarcapacityfactor*EUonshoremap"
   ]
  },
  {
   "cell_type": "markdown",
   "metadata": {
    "deletable": true,
    "editable": true
   },
   "source": [
    "### Layout $Y_{RC} \\propto A_{RC} \\cdot f_{LU} \\cdot uf$"
   ]
  },
  {
   "cell_type": "code",
   "execution_count": 15,
   "metadata": {
    "collapsed": true,
    "deletable": true,
    "editable": true
   },
   "outputs": [],
   "source": [
    "onshorelayout = reatlas_cell_areas * onshore_landuse * f_util_onwind\n",
    "offshorelayout = reatlas_cell_areas * offshore_landuse * f_util_offwind\n",
    "solarlayout = reatlas_cell_areas * solar_landuse * f_util_solar"
   ]
  },
  {
   "cell_type": "code",
   "execution_count": 16,
   "metadata": {
    "collapsed": true,
    "deletable": true,
    "editable": true
   },
   "outputs": [],
   "source": [
    "beta = 1\n",
    "\n",
    "def get_layouts(layout,partition,beta=1):\n",
    "    partition_layouts = layout * np.asarray(list(partition))\n",
    "    renormed_partition_layouts = np.nan_to_num(partition_layouts/ partition_layouts.max(axis=(1,2),keepdims=True))**beta\n",
    "    return renormed_partition_layouts"
   ]
  },
  {
   "cell_type": "code",
   "execution_count": 17,
   "metadata": {
    "collapsed": false,
    "deletable": true,
    "editable": true
   },
   "outputs": [
    {
     "name": "stderr",
     "output_type": "stream",
     "text": [
      "/home/vres/lib/python2.7/site-packages/ipykernel/__main__.py:5: RuntimeWarning: invalid value encountered in divide\n"
     ]
    }
   ],
   "source": [
    "onshorelayout_country = get_layouts(onshorelayout,partition,beta=beta)\n",
    "offshorelayout_country = get_layouts(offshorelayout,partition,beta=beta)\n",
    "solarlayout_country = get_layouts(solarlayout,partition,beta=beta)"
   ]
  },
  {
   "cell_type": "markdown",
   "metadata": {
    "deletable": true,
    "editable": true
   },
   "source": [
    "#### split the onshore wind layout to comparable areas if countries are too large"
   ]
  },
  {
   "cell_type": "code",
   "execution_count": 18,
   "metadata": {
    "collapsed": true,
    "deletable": true,
    "editable": true
   },
   "outputs": [],
   "source": [
    "def get_onwindpartition(partition,onshorelayout,max_parts=4,standardcountry='GR'):\n",
    "    landarea=pd.Series([(reatlas_cell_areas*par*EUonshoremap).sum()\n",
    "                        for par in partition.values],index=partition.keys())\n",
    "\n",
    "    def mymaximum(self,maximum):\n",
    "        return self.where(self<maximum,maximum)\n",
    "    def atleast1(self):\n",
    "        return self.where(self>1,1)\n",
    "\n",
    "    landbits=mymaximum(atleast1((landarea/landarea[standardcountry]\n",
    "                                ).round()).astype(np.int64)\n",
    "                       ,max_parts) #limit e.g. FR to 4 pieces\n",
    "\n",
    "    onwindpartition = partition.copy()\n",
    "    for country in partition[landbits>1].index:\n",
    "        onwindpartition.drop(country,inplace=True)\n",
    "\n",
    "        par = partition[country]*EUonshoremap\n",
    "\n",
    "        owl_= onshorelayout[par != 0]\n",
    "        ncells = len(owl_)\n",
    "        minmaxs = np.floor(np.linspace(0,ncells,landbits[country]+1)).astype(np.int64)\n",
    "        minmaxs[-1] = -1\n",
    "        bin_edges = np.sort(owl_)[minmaxs]\n",
    "        bin_edges[-1] += 1.\n",
    "\n",
    "\n",
    "        owl = onshorelayout*par\n",
    "        for nn in np.arange(int(landbits[country])):\n",
    "            onwindpartition.loc['{}{}'.format(country,int(nn))] = (((owl>=bin_edges[nn]) & (owl<bin_edges[nn+1])) * par) != 0\n",
    "\n",
    "    return onwindpartition, landbits"
   ]
  },
  {
   "cell_type": "code",
   "execution_count": 19,
   "metadata": {
    "collapsed": false,
    "deletable": true,
    "editable": true
   },
   "outputs": [],
   "source": [
    "onwindpartition, landbits = get_onwindpartition(partition,onshorelayout)\n",
    "\n",
    "onshorelayout_country_split = get_layouts(onshorelayout,onwindpartition,beta=beta)"
   ]
  },
  {
   "cell_type": "markdown",
   "metadata": {
    "deletable": true,
    "editable": true
   },
   "source": [
    "### p_nom_max"
   ]
  },
  {
   "cell_type": "markdown",
   "metadata": {
    "deletable": true,
    "editable": true
   },
   "source": [
    "The capacity layout can only be scaled up until the first raster cell reaches the maximum installation density. Therefore, there exists a constant `const` for every node `n` such that:\n",
    "\n",
    "$const_n \\cdot layout_n \\le G^{max,inst} f_{aa} A_{RC} f_{LU} \\qquad \\forall RC \\in n$\n",
    "\n",
    "The maximum value of `const` is then reached once\n",
    "\n",
    "$const_n = \\min_{RC \\in n} \\frac{G^{max,inst} f_{aa} A_{RC} f_{LU}}{layout_n} $\n",
    "\n",
    "The maximum installable capacity `p_nom_max` is therefore:\n",
    "\n",
    "$p\\_nom\\_max_n = \\sum_{RC \\in n} const_n \\cdot layout_n = \\sum_{RC \\in n} layout_n  \\min_{RC \\in n} \\frac{A_{RC} f_{LU}}{layout_n} G^{max,inst} f_{aa}$"
   ]
  },
  {
   "cell_type": "code",
   "execution_count": 20,
   "metadata": {
    "collapsed": true,
    "deletable": true,
    "editable": true
   },
   "outputs": [],
   "source": [
    "def get_p_nom_max(layout_country,partition,cell_areas,landuse,G_maxinst,f_aa):\n",
    "    '''Return p_nom_max per country in partition.index\n",
    "    Input\n",
    "    -----\n",
    "    layout :\n",
    "        Relative distribution of generators.\n",
    "    partition :\n",
    "        partition\n",
    "    '''\n",
    "    mlayout = np.ma.array(layout_country,mask=(layout_country==0))\n",
    "\n",
    "    p_nom_max = (mlayout.sum(axis=(1,2)) * G_maxinst * f_aa *\n",
    "                 (cell_areas * landuse / mlayout).min(axis=(1,2))\n",
    "                ) \n",
    "    return pd.Series(p_nom_max.data, index=partition.index)"
   ]
  },
  {
   "cell_type": "code",
   "execution_count": 21,
   "metadata": {
    "collapsed": false,
    "deletable": true,
    "editable": true
   },
   "outputs": [
    {
     "name": "stdout",
     "output_type": "stream",
     "text": [
      "saving file data/renewables/store_p_nom_max/p_nom_max_onwind_beta1.pickle\n",
      "saving file data/renewables/store_p_nom_max/p_nom_max_onwind_split_beta1.pickle\n",
      "saving file data/renewables/store_p_nom_max/p_nom_max_offwind_beta1.pickle\n",
      "saving file data/renewables/store_p_nom_max/p_nom_max_solar_beta1.pickle\n"
     ]
    },
    {
     "name": "stderr",
     "output_type": "stream",
     "text": [
      "/home/vres/lib/python2.7/site-packages/ipykernel/__main__.py:13: RuntimeWarning: divide by zero encountered in divide\n",
      "/home/vres/lib/python2.7/site-packages/ipykernel/__main__.py:13: RuntimeWarning: invalid value encountered in divide\n"
     ]
    }
   ],
   "source": [
    "dict_onwind = {'type':'onwind', 'partition':partition, 'layout':onshorelayout_country, 'landuse':onshore_landuse, 'G_maxinst':G_maxinst_onwind, 'f_aa':f_aa_onwind}\n",
    "dict_onwind_split = {'type':'onwind_split', 'partition':onwindpartition, 'layout':onshorelayout_country_split, 'landuse':onshore_landuse, 'G_maxinst':G_maxinst_onwind, 'f_aa':f_aa_onwind}\n",
    "dict_offwind = {'type':'offwind', 'partition':partition, 'layout':offshorelayout_country, 'landuse':offshore_landuse, 'G_maxinst':G_maxinst_offwind, 'f_aa':f_aa_offwind}\n",
    "dict_solar = {'type':'solar', 'partition':partition, 'layout':solarlayout_country, 'landuse':solar_landuse, 'G_maxinst':G_maxinst_solar, 'f_aa':f_aa_solar}\n",
    "\n",
    "\n",
    "p_nom_max_folder = 'data/renewables/store_p_nom_max/'\n",
    "\n",
    "if not os.path.isdir(p_nom_max_folder):\n",
    "    os.makedirs(p_nom_max_folder)\n",
    "\n",
    "for typ in [dict_onwind, dict_onwind_split, dict_offwind, dict_solar]:\n",
    "    p_nom_max = get_p_nom_max(typ['layout'],typ['partition'],reatlas_cell_areas,typ['landuse'],typ['G_maxinst'],typ['f_aa'])\n",
    "    \n",
    "    p_nom_max_file = os.path.join(p_nom_max_folder,'p_nom_max_{typ}_beta{beta}.pickle'.format(typ=typ['type'],beta=beta))\n",
    "\n",
    "    print('saving file {}'.format(p_nom_max_file))\n",
    "    p_nom_max.to_pickle(p_nom_max_file)"
   ]
  },
  {
   "cell_type": "markdown",
   "metadata": {
    "deletable": true,
    "editable": true
   },
   "source": [
    "### p_max_pu time series"
   ]
  },
  {
   "cell_type": "code",
   "execution_count": 22,
   "metadata": {
    "collapsed": false,
    "deletable": true,
    "editable": true
   },
   "outputs": [
    {
     "name": "stdout",
     "output_type": "stream",
     "text": [
      "CPU times: user 720 ms, sys: 36 ms, total: 756 ms\n",
      "Wall time: 33.9 s\n"
     ]
    }
   ],
   "source": [
    "%%time\n",
    "onshore = unit_capacity_timeseries(dict(onshore=windturbines['onshore']), partition,\n",
    "                                            onshorelayout_country, cutout)"
   ]
  },
  {
   "cell_type": "code",
   "execution_count": 23,
   "metadata": {
    "collapsed": false,
    "deletable": true,
    "editable": true
   },
   "outputs": [
    {
     "name": "stdout",
     "output_type": "stream",
     "text": [
      "CPU times: user 868 ms, sys: 60 ms, total: 928 ms\n",
      "Wall time: 36.3 s\n"
     ]
    }
   ],
   "source": [
    "%%time\n",
    "onshore_split = unit_capacity_timeseries(dict(onshore=windturbines['onshore']), onwindpartition,\n",
    "                                         onshorelayout_country_split, cutout)"
   ]
  },
  {
   "cell_type": "code",
   "execution_count": 24,
   "metadata": {
    "collapsed": false,
    "deletable": true,
    "editable": true
   },
   "outputs": [
    {
     "name": "stdout",
     "output_type": "stream",
     "text": [
      "CPU times: user 712 ms, sys: 36 ms, total: 748 ms\n",
      "Wall time: 34 s\n"
     ]
    },
    {
     "name": "stderr",
     "output_type": "stream",
     "text": [
      "/home/vres/lib/python2.7/site-packages/ipykernel/__main__.py:38: RuntimeWarning: divide by zero encountered in divide\n"
     ]
    }
   ],
   "source": [
    "%%time\n",
    "offshore = unit_capacity_timeseries(dict(offshore=windturbines['offshore']), partition,\n",
    "                                    offshorelayout_country, cutout)"
   ]
  },
  {
   "cell_type": "code",
   "execution_count": 25,
   "metadata": {
    "collapsed": false,
    "deletable": true,
    "editable": true
   },
   "outputs": [
    {
     "name": "stdout",
     "output_type": "stream",
     "text": [
      "CPU times: user 676 ms, sys: 64 ms, total: 740 ms\n",
      "Wall time: 40.9 s\n"
     ]
    }
   ],
   "source": [
    "%%time\n",
    "solar = unit_capacity_timeseries(solarpanel, partition, solarlayout_country, cutout)"
   ]
  },
  {
   "cell_type": "code",
   "execution_count": 26,
   "metadata": {
    "collapsed": false,
    "deletable": true,
    "editable": true
   },
   "outputs": [
    {
     "name": "stdout",
     "output_type": "stream",
     "text": [
      "saving file: data/renewables/store_p_max_pu_betas/p_max_pu_onwind_split_beta1.pickle\n",
      "saving file: data/renewables/store_p_max_pu_betas/p_max_pu_offwind_beta1.pickle\n",
      "saving file: data/renewables/store_p_max_pu_betas/p_max_pu_solar_beta1.pickle\n",
      "saving file: data/renewables/store_p_max_pu_betas/p_max_pu_onwind_beta1.pickle\n"
     ]
    }
   ],
   "source": [
    "p_max_pus = dict(onwind=onshore,onwind_split=onshore_split,offwind=offshore,solar=solar)\n",
    "\n",
    "\n",
    "p_max_pu_folder='data/renewables/store_p_max_pu_betas/'\n",
    "\n",
    "if not os.path.isdir(p_max_pu_folder):\n",
    "    os.makedirs(p_max_pu_folder)\n",
    "\n",
    "for kind, pmpu in p_max_pus.iteritems():\n",
    "    pmpu_file = os.path.join(p_max_pu_folder,'p_max_pu_{kind}_beta{beta}.pickle'.format(kind=kind,beta=beta))\n",
    "    print('saving file: {}'.format(pmpu_file))\n",
    "    pmpu.to_pickle(pmpu_file)"
   ]
  },
  {
   "cell_type": "code",
   "execution_count": 27,
   "metadata": {
    "collapsed": false,
    "deletable": true,
    "editable": true
   },
   "outputs": [
    {
     "name": "stdout",
     "output_type": "stream",
     "text": [
      "saving country splits to: data/renewables/store_p_max_pu_betas/onwind_split_countries.csv\n"
     ]
    }
   ],
   "source": [
    "splitcountries=landbits[landbits>1] # name of splitted countries and number of parts\n",
    "splitcountries_filename = os.path.join(p_max_pu_folder,'onwind_split_countries.csv')\n",
    "print('saving country splits to: {}'.format(splitcountries_filename))\n",
    "splitcountries.to_csv(splitcountries_filename)\n"
   ]
  },
  {
   "cell_type": "code",
   "execution_count": null,
   "metadata": {
    "collapsed": true,
    "deletable": true,
    "editable": true
   },
   "outputs": [],
   "source": []
  }
 ],
 "metadata": {
  "kernelspec": {
   "display_name": "Python 2",
   "language": "python",
   "name": "python2"
  },
  "language_info": {
   "codemirror_mode": {
    "name": "ipython",
    "version": 2
   },
   "file_extension": ".py",
   "mimetype": "text/x-python",
   "name": "python",
   "nbconvert_exporter": "python",
   "pygments_lexer": "ipython2",
   "version": "2.7.12"
  }
 },
 "nbformat": 4,
 "nbformat_minor": 2
}
